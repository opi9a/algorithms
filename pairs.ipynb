{
 "cells": [
  {
   "cell_type": "code",
   "execution_count": 1,
   "metadata": {
    "collapsed": true
   },
   "outputs": [],
   "source": [
    "import numpy as np\n",
    "from importlib import reload"
   ]
  },
  {
   "cell_type": "markdown",
   "metadata": {},
   "source": [
    "## Problem\n",
    "\n",
    "For a list of numbers, find those pairs whose sums equal a target\n",
    "\n",
    "http://www.techiedelight.com/find-pair-with-given-sum-array/"
   ]
  },
  {
   "cell_type": "markdown",
   "metadata": {},
   "source": [
    "## Inputs\n",
    "\n",
    "Make a function for generating lists of numbers that can be scaled.\n",
    "\n",
    "General approach, to avoid having to calculate probabilities of having pairs, is to select at random from a very large range of possible numbers (with low probability of pairs) and then artificially create a pair (or pairs) at desired positions."
   ]
  },
  {
   "cell_type": "code",
   "execution_count": 2,
   "metadata": {
    "collapsed": true
   },
   "outputs": [],
   "source": [
    "# set global default scope - the range from which lists will be selected.  \n",
    "# target\n",
    "glob_scope = 10**9"
   ]
  },
  {
   "cell_type": "code",
   "execution_count": 3,
   "metadata": {
    "collapsed": true
   },
   "outputs": [],
   "source": [
    "def make_test_list(size, scope=glob_scope, mod_loc=0.3, target=None):\n",
    "    \n",
    "    if target is None:\n",
    "        target = scope\n",
    "    \n",
    "    # create an initial list\n",
    "    out_list = np.random.randint(0, high=scope, size=size)\n",
    "    \n",
    "    # modify two numbers to sum to target\n",
    "    out_list[int(mod_loc*size)] = target//2 + 1\n",
    "    out_list[int((1-mod_loc)*size)] = target - (target//2) - 1\n",
    "    \n",
    "    return out_list"
   ]
  },
  {
   "cell_type": "code",
   "execution_count": 18,
   "metadata": {
    "collapsed": false
   },
   "outputs": [
    {
     "name": "stdout",
     "output_type": "stream",
     "text": [
      "  650,541,512\n",
      "  663,986,645\n",
      "   74,031,006\n",
      "  500,000,001\n",
      "  993,192,159\n",
      "  673,637,341\n",
      "  814,348,696\n",
      "  499,999,999\n",
      "  926,261,758\n",
      "  689,037,614\n"
     ]
    }
   ],
   "source": [
    "for line in [\"{:,}\".format(x).rjust(13) for x in make_test_list(10)]:\n",
    "    print(line)"
   ]
  },
  {
   "cell_type": "code",
   "execution_count": 19,
   "metadata": {
    "collapsed": true
   },
   "outputs": [],
   "source": [
    "tl1 = make_test_list(10**1)\n",
    "tl2 = make_test_list(10**2)\n",
    "tl3 = make_test_list(10**3)\n",
    "tl4 = make_test_list(10**4)"
   ]
  },
  {
   "cell_type": "markdown",
   "metadata": {},
   "source": [
    "## Naive solution\n",
    "\n",
    "Go through list of numbers, and test each one with all others (later in list - those before will already have been tested)"
   ]
  },
  {
   "cell_type": "code",
   "execution_count": 24,
   "metadata": {
    "collapsed": true
   },
   "outputs": [],
   "source": [
    "def pair1(input_list, target=glob_scope, _debug=False):\n",
    "\n",
    "    # make an empty list to hold any pairs found\n",
    "    pairs = []\n",
    "\n",
    "    # go thru each member of list\n",
    "    for i, num1 in enumerate(input_list):\n",
    "        if _debug: print(\"Trying input list index \", i, \": \", num1)\n",
    "\n",
    "    # test with each other number (i.e. rest of list)\n",
    "        for j, num2 in enumerate(input_list[i+1:]):\n",
    "\n",
    "            if _debug: print(\"  with \", num2)\n",
    "\n",
    "            if num1 + num2 == target:\n",
    "                if _debug:\n",
    "                    print(\"FOUND PAIR: {}({}) + {}({}) = {}\".format(num1,\n",
    "                                                            i, num2, j+i+1, num1 + num2))\n",
    "                pairs.append(max(num1, target-num1))\n",
    "                break\n",
    "\n",
    "    return pairs"
   ]
  },
  {
   "cell_type": "code",
   "execution_count": 25,
   "metadata": {
    "collapsed": false
   },
   "outputs": [
    {
     "name": "stdout",
     "output_type": "stream",
     "text": [
      "Trying input list index  0 :  869900188\n",
      "  with  910293399\n",
      "  with  767815841\n",
      "  with  500000001\n",
      "  with  991140836\n",
      "  with  133606927\n",
      "  with  551839617\n",
      "  with  499999999\n",
      "  with  934419139\n",
      "  with  154569089\n",
      "Trying input list index  1 :  910293399\n",
      "  with  767815841\n",
      "  with  500000001\n",
      "  with  991140836\n",
      "  with  133606927\n",
      "  with  551839617\n",
      "  with  499999999\n",
      "  with  934419139\n",
      "  with  154569089\n",
      "Trying input list index  2 :  767815841\n",
      "  with  500000001\n",
      "  with  991140836\n",
      "  with  133606927\n",
      "  with  551839617\n",
      "  with  499999999\n",
      "  with  934419139\n",
      "  with  154569089\n",
      "Trying input list index  3 :  500000001\n",
      "  with  991140836\n",
      "  with  133606927\n",
      "  with  551839617\n",
      "  with  499999999\n",
      "FOUND PAIR: 500000001(3) + 499999999(7) = 1000000000\n",
      "Trying input list index  4 :  991140836\n",
      "  with  133606927\n",
      "  with  551839617\n",
      "  with  499999999\n",
      "  with  934419139\n",
      "  with  154569089\n",
      "Trying input list index  5 :  133606927\n",
      "  with  551839617\n",
      "  with  499999999\n",
      "  with  934419139\n",
      "  with  154569089\n",
      "Trying input list index  6 :  551839617\n",
      "  with  499999999\n",
      "  with  934419139\n",
      "  with  154569089\n",
      "Trying input list index  7 :  499999999\n",
      "  with  934419139\n",
      "  with  154569089\n",
      "Trying input list index  8 :  934419139\n",
      "  with  154569089\n",
      "Trying input list index  9 :  154569089\n"
     ]
    },
    {
     "data": {
      "text/plain": [
       "[500000001]"
      ]
     },
     "execution_count": 25,
     "metadata": {},
     "output_type": "execute_result"
    }
   ],
   "source": [
    "pair1(tl1, _debug=True)"
   ]
  },
  {
   "cell_type": "code",
   "execution_count": 23,
   "metadata": {
    "collapsed": false
   },
   "outputs": [
    {
     "data": {
      "text/plain": [
       "[500000001]"
      ]
     },
     "execution_count": 23,
     "metadata": {},
     "output_type": "execute_result"
    }
   ],
   "source": [
    "pair1(tl3)"
   ]
  },
  {
   "cell_type": "markdown",
   "metadata": {},
   "source": [
    "## Use hashing to make linear in `n`\n",
    "\n",
    "Make a hash table log - eg a dict file in python.  \n",
    "\n",
    "For each number, test if it's complement is a key in the hash table (in which case success).  If not then add its hash to the table.  \n",
    "\n",
    "Only requires one passage through the list."
   ]
  },
  {
   "cell_type": "code",
   "execution_count": 26,
   "metadata": {
    "collapsed": true
   },
   "outputs": [],
   "source": [
    "def pair2(input_list, target=glob_target, _debug=False):\n",
    "\n",
    "    # make a log (dict), and the list of pairs\n",
    "    log = {}\n",
    "    pairs = []\n",
    "\n",
    "    # go thru each member of list\n",
    "    for i, num in enumerate(input_list):\n",
    "        if _debug:\n",
    "            print(\"Trying input list index \", i, \": \", num)\n",
    "            print(\"log: \", [x for x in log.keys()])\n",
    "\n",
    "        # make complement\n",
    "        complement = target - num\n",
    "\n",
    "        # check if it has been seen\n",
    "        if log.get(complement, False):\n",
    "            if _debug:\n",
    "                print(\"FOUND PAIR: {}({}) + {}({}) = {}\"\n",
    "                        .format(complement, log[complement], num, i, num + complement))\n",
    "\n",
    "            # add to results\n",
    "            pairs.append(max(num, target-num))\n",
    "            \n",
    "        # add it to the log\n",
    "        log[num] = i\n",
    "\n",
    "    return pairs"
   ]
  },
  {
   "cell_type": "code",
   "execution_count": 27,
   "metadata": {
    "collapsed": false
   },
   "outputs": [
    {
     "data": {
      "text/plain": [
       "[500000001]"
      ]
     },
     "execution_count": 27,
     "metadata": {},
     "output_type": "execute_result"
    }
   ],
   "source": [
    "pair2(tl3)"
   ]
  },
  {
   "cell_type": "markdown",
   "metadata": {},
   "source": [
    "## Compare"
   ]
  },
  {
   "cell_type": "code",
   "execution_count": 28,
   "metadata": {
    "collapsed": false
   },
   "outputs": [
    {
     "name": "stdout",
     "output_type": "stream",
     "text": [
      "10 loops, best of 3: 184 ms per loop\n"
     ]
    }
   ],
   "source": [
    "%timeit pair1(tl3)"
   ]
  },
  {
   "cell_type": "code",
   "execution_count": 30,
   "metadata": {
    "collapsed": false
   },
   "outputs": [
    {
     "name": "stdout",
     "output_type": "stream",
     "text": [
      "1000 loops, best of 3: 467 µs per loop\n"
     ]
    }
   ],
   "source": [
    "%timeit pair2(tl3)"
   ]
  }
 ],
 "metadata": {
  "kernelspec": {
   "display_name": "Python 3",
   "language": "python",
   "name": "python3"
  },
  "language_info": {
   "codemirror_mode": {
    "name": "ipython",
    "version": 3
   },
   "file_extension": ".py",
   "mimetype": "text/x-python",
   "name": "python",
   "nbconvert_exporter": "python",
   "pygments_lexer": "ipython3",
   "version": "3.6.0"
  }
 },
 "nbformat": 4,
 "nbformat_minor": 2
}
